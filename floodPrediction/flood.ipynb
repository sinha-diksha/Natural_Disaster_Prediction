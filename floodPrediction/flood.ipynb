{
  "nbformat": 4,
  "nbformat_minor": 0,
  "metadata": {
    "colab": {
      "provenance": []
    },
    "kernelspec": {
      "name": "python3",
      "display_name": "Python 3"
    },
    "language_info": {
      "name": "python"
    }
  },
  "cells": [
    {
      "cell_type": "code",
      "execution_count": null,
      "metadata": {
        "id": "IkcVgZVdjb95"
      },
      "outputs": [],
      "source": [
        "#Import some basic libraries\n",
        "import numpy as np # The NumPy library provides support for efficient numerical computing in Python\n",
        "import pandas as pd # The Pandas library provides high-performance data manipulation and analysis tools"
      ]
    },
    {
      "cell_type": "code",
      "source": [
        "# The URL of the file on Google Drive, this file is rainfall.csv\n",
        "url='https://drive.google.com/file/d/1pyG3_AtNnnaMrDA_eOA0A0d1yoOcNwAX/view?usp=share_link'\n",
        "# Extracting the file ID from the URL\n",
        "file_id=url.split('/')[-2]\n",
        "# Constructing the download URL using the file ID\n",
        "dwn_url='https://drive.google.com/uc?id=' + file_id\n",
        "# Loading the data from the download URL into a Pandas DataFrame\n",
        "data = pd.read_csv(dwn_url)\n",
        "print(data.head()) # Printing the first few rows of the DataFrame"
      ],
      "metadata": {
        "colab": {
          "base_uri": "https://localhost:8080/"
        },
        "id": "KFiI-WDSoT2Q",
        "outputId": "bb77bde5-1ec9-43d3-9077-5b6966d66132"
      },
      "execution_count": null,
      "outputs": [
        {
          "output_type": "stream",
          "name": "stdout",
          "text": [
            "                 SUBDIVISION  YEAR   JAN    FEB   MAR    APR    MAY    JUN  \\\n",
            "0  ANDAMAN & NICOBAR ISLANDS  1901  49.2   87.1  29.2    2.3  528.8  517.5   \n",
            "1  ANDAMAN & NICOBAR ISLANDS  1902   0.0  159.8  12.2    0.0  446.1  537.1   \n",
            "2  ANDAMAN & NICOBAR ISLANDS  1903  12.7  144.0   0.0    1.0  235.1  479.9   \n",
            "3  ANDAMAN & NICOBAR ISLANDS  1904   9.4   14.7   0.0  202.4  304.5  495.1   \n",
            "4  ANDAMAN & NICOBAR ISLANDS  1905   1.3    0.0   3.3   26.9  279.5  628.7   \n",
            "\n",
            "     JUL    AUG    SEP    OCT    NOV    DEC  ANNUAL  Jan-Feb  Mar-May  \\\n",
            "0  365.1  481.1  332.6  388.5  558.2   33.6  3373.2    136.3    560.3   \n",
            "1  228.9  753.7  666.2  197.2  359.0  160.5  3520.7    159.8    458.3   \n",
            "2  728.4  326.7  339.0  181.2  284.4  225.0  2957.4    156.7    236.1   \n",
            "3  502.0  160.1  820.4  222.2  308.7   40.1  3079.6     24.1    506.9   \n",
            "4  368.7  330.5  297.0  260.7   25.4  344.7  2566.7      1.3    309.7   \n",
            "\n",
            "   Jun-Sep  Oct-Dec  \n",
            "0   1696.3    980.3  \n",
            "1   2185.9    716.7  \n",
            "2   1874.0    690.6  \n",
            "3   1977.6    571.0  \n",
            "4   1624.9    630.8  \n"
          ]
        }
      ]
    },
    {
      "cell_type": "code",
      "source": [
        "# Filling missing values in the each column with the mean value of the column\n",
        "data['JAN'].fillna((data['JAN'].mean()), inplace=True)\n",
        "data['FEB'].fillna((data['FEB'].mean()), inplace=True)\n",
        "data['MAR'].fillna((data['MAR'].mean()), inplace=True)\n",
        "data['APR'].fillna((data['APR'].mean()), inplace=True)\n",
        "data['MAY'].fillna((data['MAY'].mean()), inplace=True)\n",
        "data['JUN'].fillna((data['JUN'].mean()), inplace=True)\n",
        "data['JUL'].fillna((data['JUL'].mean()), inplace=True)\n",
        "data['AUG'].fillna((data['AUG'].mean()), inplace=True)\n",
        "data['SEP'].fillna((data['SEP'].mean()), inplace=True)\n",
        "data['OCT'].fillna((data['OCT'].mean()), inplace=True)\n",
        "data['NOV'].fillna((data['NOV'].mean()), inplace=True)\n",
        "data['DEC'].fillna((data['DEC'].mean()), inplace=True)\n",
        "data['ANNUAL'].fillna((data['ANNUAL'].mean()), inplace=True)\n",
        "data['Jan-Feb'].fillna((data['Jan-Feb'].mean()), inplace=True)\n",
        "data['Mar-May'].fillna((data['Mar-May'].mean()), inplace=True)\n",
        "data['Jun-Sep'].fillna((data['Jun-Sep'].mean()), inplace=True)\n",
        "data['Oct-Dec'].fillna((data['Oct-Dec'].mean()), inplace=True)"
      ],
      "metadata": {
        "id": "_4Y87FbvrP1l"
      },
      "execution_count": null,
      "outputs": []
    },
    {
      "cell_type": "code",
      "source": [
        "print(data.head())"
      ],
      "metadata": {
        "colab": {
          "base_uri": "https://localhost:8080/"
        },
        "id": "7fr7J3Morfka",
        "outputId": "88846d88-2f2a-4d74-a452-4f34cc986c0b"
      },
      "execution_count": null,
      "outputs": [
        {
          "output_type": "stream",
          "name": "stdout",
          "text": [
            "                 SUBDIVISION  YEAR   JAN    FEB   MAR    APR    MAY    JUN  \\\n",
            "0  ANDAMAN & NICOBAR ISLANDS  1901  49.2   87.1  29.2    2.3  528.8  517.5   \n",
            "1  ANDAMAN & NICOBAR ISLANDS  1902   0.0  159.8  12.2    0.0  446.1  537.1   \n",
            "2  ANDAMAN & NICOBAR ISLANDS  1903  12.7  144.0   0.0    1.0  235.1  479.9   \n",
            "3  ANDAMAN & NICOBAR ISLANDS  1904   9.4   14.7   0.0  202.4  304.5  495.1   \n",
            "4  ANDAMAN & NICOBAR ISLANDS  1905   1.3    0.0   3.3   26.9  279.5  628.7   \n",
            "\n",
            "     JUL    AUG    SEP    OCT    NOV    DEC  ANNUAL  Jan-Feb  Mar-May  \\\n",
            "0  365.1  481.1  332.6  388.5  558.2   33.6  3373.2    136.3    560.3   \n",
            "1  228.9  753.7  666.2  197.2  359.0  160.5  3520.7    159.8    458.3   \n",
            "2  728.4  326.7  339.0  181.2  284.4  225.0  2957.4    156.7    236.1   \n",
            "3  502.0  160.1  820.4  222.2  308.7   40.1  3079.6     24.1    506.9   \n",
            "4  368.7  330.5  297.0  260.7   25.4  344.7  2566.7      1.3    309.7   \n",
            "\n",
            "   Jun-Sep  Oct-Dec  \n",
            "0   1696.3    980.3  \n",
            "1   2185.9    716.7  \n",
            "2   1874.0    690.6  \n",
            "3   1977.6    571.0  \n",
            "4   1624.9    630.8  \n"
          ]
        }
      ]
    },
    {
      "cell_type": "code",
      "source": [
        "data=np.array(data) # Converting the DataFrame to a NumPy array\n",
        "print(data.shape) # Printing the shape of the NumPy array\n"
      ],
      "metadata": {
        "colab": {
          "base_uri": "https://localhost:8080/"
        },
        "id": "9PoXZUMrrmDv",
        "outputId": "1ac782b2-01bb-4523-bc6e-d22eed513976"
      },
      "execution_count": null,
      "outputs": [
        {
          "output_type": "stream",
          "name": "stdout",
          "text": [
            "(4116, 19)\n"
          ]
        }
      ]
    },
    {
      "cell_type": "code",
      "source": [
        "state = {name:i for i, name in enumerate(sorted(set(data[:,0])))} # Sorting the unique values in the first column of the 'data' array and assigning them indices\n",
        "print(state) # Printing the resulting dictionary"
      ],
      "metadata": {
        "colab": {
          "base_uri": "https://localhost:8080/"
        },
        "id": "Tjch-D7YrtQ0",
        "outputId": "a0ee988f-32c4-494a-af56-ac8cdfc0bbfa"
      },
      "execution_count": null,
      "outputs": [
        {
          "output_type": "stream",
          "name": "stdout",
          "text": [
            "{'ANDAMAN & NICOBAR ISLANDS': 0, 'ARUNACHAL PRADESH': 1, 'ASSAM & MEGHALAYA': 2, 'BIHAR': 3, 'CHHATTISGARH': 4, 'COASTAL ANDHRA PRADESH': 5, 'COASTAL KARNATAKA': 6, 'EAST MADHYA PRADESH': 7, 'EAST RAJASTHAN': 8, 'EAST UTTAR PRADESH': 9, 'GANGETIC WEST BENGAL': 10, 'GUJARAT REGION': 11, 'HARYANA DELHI & CHANDIGARH': 12, 'HIMACHAL PRADESH': 13, 'JAMMU & KASHMIR': 14, 'JHARKHAND': 15, 'KERALA': 16, 'KONKAN & GOA': 17, 'LAKSHADWEEP': 18, 'MADHYA MAHARASHTRA': 19, 'MATATHWADA': 20, 'NAGA MANI MIZO TRIPURA': 21, 'NORTH INTERIOR KARNATAKA': 22, 'ORISSA': 23, 'PUNJAB': 24, 'RAYALSEEMA': 25, 'SAURASHTRA & KUTCH': 26, 'SOUTH INTERIOR KARNATAKA': 27, 'SUB HIMALAYAN WEST BENGAL & SIKKIM': 28, 'TAMIL NADU': 29, 'TELANGANA': 30, 'UTTARAKHAND': 31, 'VIDARBHA': 32, 'WEST MADHYA PRADESH': 33, 'WEST RAJASTHAN': 34, 'WEST UTTAR PRADESH': 35}\n"
          ]
        }
      ]
    },
    {
      "cell_type": "code",
      "source": [
        "df=pd.DataFrame(data[:,:14]).replace(state) # Creating a DataFrame from the first 14 columns of the 'data' array"
      ],
      "metadata": {
        "id": "Y-hbwf18sP3C"
      },
      "execution_count": null,
      "outputs": []
    },
    {
      "cell_type": "code",
      "source": [
        "df.to_csv(\"data.csv\") # Exporting the DataFrame 'df' to a CSV file named 'data.csv'"
      ],
      "metadata": {
        "id": "CxFwGuEcsVO-"
      },
      "execution_count": null,
      "outputs": []
    },
    {
      "cell_type": "code",
      "source": [
        "print(df.head()) # Printing the first few rows of the DataFrame using the 'head()' function"
      ],
      "metadata": {
        "colab": {
          "base_uri": "https://localhost:8080/"
        },
        "id": "_4ZR4ALjs3Mt",
        "outputId": "f11e34f4-852d-44ce-b45a-673c9b1242e5"
      },
      "execution_count": null,
      "outputs": [
        {
          "output_type": "stream",
          "name": "stdout",
          "text": [
            "   0     1     2      3     4      5      6      7      8      9      10  \\\n",
            "0   0  1901  49.2   87.1  29.2    2.3  528.8  517.5  365.1  481.1  332.6   \n",
            "1   0  1902   0.0  159.8  12.2    0.0  446.1  537.1  228.9  753.7  666.2   \n",
            "2   0  1903  12.7  144.0   0.0    1.0  235.1  479.9  728.4  326.7  339.0   \n",
            "3   0  1904   9.4   14.7   0.0  202.4  304.5  495.1  502.0  160.1  820.4   \n",
            "4   0  1905   1.3    0.0   3.3   26.9  279.5  628.7  368.7  330.5  297.0   \n",
            "\n",
            "      11     12     13  \n",
            "0  388.5  558.2   33.6  \n",
            "1  197.2  359.0  160.5  \n",
            "2  181.2  284.4  225.0  \n",
            "3  222.2  308.7   40.1  \n",
            "4  260.7   25.4  344.7  \n"
          ]
        }
      ]
    },
    {
      "cell_type": "code",
      "source": [
        "data2=np.array(df) # Converting the DataFrame 'df' to a NumPy array"
      ],
      "metadata": {
        "id": "qgr9ZSUAsfxe"
      },
      "execution_count": null,
      "outputs": []
    },
    {
      "cell_type": "code",
      "source": [
        "print(data2.shape) # Printing the shape of the array"
      ],
      "metadata": {
        "colab": {
          "base_uri": "https://localhost:8080/"
        },
        "id": "dwwh_yMyskrx",
        "outputId": "cc59a734-5a33-44b3-8003-8360d064ad66"
      },
      "execution_count": null,
      "outputs": [
        {
          "output_type": "stream",
          "name": "stdout",
          "text": [
            "(4116, 14)\n"
          ]
        }
      ]
    },
    {
      "cell_type": "code",
      "source": [
        "print(data2[:200]) # Accessing the first 200 rows of the NumPy array 'data2' using slicing"
      ],
      "metadata": {
        "colab": {
          "base_uri": "https://localhost:8080/"
        },
        "id": "cbicjKr9tKKE",
        "outputId": "ed9acefd-fb4c-48f2-aae3-bbb4a9aec76e"
      },
      "execution_count": null,
      "outputs": [
        {
          "output_type": "stream",
          "name": "stdout",
          "text": [
            "[[0.000e+00 1.901e+03 4.920e+01 ... 3.885e+02 5.582e+02 3.360e+01]\n",
            " [0.000e+00 1.902e+03 0.000e+00 ... 1.972e+02 3.590e+02 1.605e+02]\n",
            " [0.000e+00 1.903e+03 1.270e+01 ... 1.812e+02 2.844e+02 2.250e+02]\n",
            " ...\n",
            " [1.000e+00 2.006e+03 6.000e+00 ... 7.720e+01 6.970e+01 2.170e+01]\n",
            " [1.000e+00 2.007e+03 1.340e+01 ... 1.026e+02 2.430e+01 6.900e+00]\n",
            " [1.000e+00 2.008e+03 7.670e+01 ... 1.151e+02 1.700e+00 2.600e+00]]\n"
          ]
        }
      ]
    },
    {
      "cell_type": "code",
      "source": [
        "x=[] # Creating an empty list 'x' to store data points along the x-axis\n",
        "y=[] # Creating an empty list 'y' to store data points along the y-axis"
      ],
      "metadata": {
        "id": "Zt66uwvxtRT1"
      },
      "execution_count": null,
      "outputs": []
    },
    {
      "cell_type": "code",
      "source": [
        "count=0 # Setting the initial count to 0\n",
        "flood_min=254 # Defining the minimum flood value as 254"
      ],
      "metadata": {
        "id": "CZ3mT0rrtTgF"
      },
      "execution_count": null,
      "outputs": []
    },
    {
      "cell_type": "code",
      "source": [
        "# Looping through a range of values from 0 to 35\n",
        "for i in range(36):\n",
        "    # Printing the data in the first column of 'data2' and the current value of 'i'\n",
        "    print(data2[:,0],i)\n",
        "    # Filtering the data based on the current value of 'i' and selecting columns 2 onwards\n",
        "    temp=data2[data2[:,0]==i][:,2:].flatten()\n",
        "    temp=np.array(temp)\n",
        "    # Iterating through each value in 'temp' and appending it to the list 'x'\n",
        "    for j in range(temp.shape[0]):\n",
        "        x.append([i,temp[j]])\n",
        "    # Printing the values in 'temp'\n",
        "    print(temp)\n",
        "    # Iterating through each value in 'temp' and assigning a corresponding value to 'y' based on certain conditions\n",
        "    for j in range(temp.shape[0]):\n",
        "        # Generating random noise\n",
        "        noise=25*np.random.normal(0,0.45)\n",
        "        # Assigning a label of 3 if the value is greater than or equal to 354 + noise\n",
        "        if(temp[j]>=354+noise):\n",
        "            y.append(3)\n",
        "        # Assigning a label of 1 if the value is greater than 204 - abs(noise) and less than or equal to 254\n",
        "        elif(temp[j]>204-abs(noise) and temp[j] <=254):\n",
        "            y.append(1)\n",
        "        # Assigning a label of 2 if the value is greater than 254 and less than 354 + noise\n",
        "        elif(temp[j]>254 and temp[j]<354+noise):\n",
        "            y.append(2)\n",
        "        else:\n",
        "            y.append(0) #assigning a label 0 for all other values"
      ],
      "metadata": {
        "colab": {
          "base_uri": "https://localhost:8080/"
        },
        "id": "tZ4XazBntdh3",
        "outputId": "33688b3e-a6eb-4e5f-e380-17219ae6769f"
      },
      "execution_count": null,
      "outputs": [
        {
          "output_type": "stream",
          "name": "stdout",
          "text": [
            "[ 0.  0.  0. ... 18. 18. 18.] 0\n",
            "[ 49.2  87.1  29.2 ... 252.1 236.3 129.9]\n",
            "[ 0.  0.  0. ... 18. 18. 18.] 1\n",
            "[48.1 69.8 71.1 ... 65.2 33.8 29.8]\n",
            "[ 0.  0.  0. ... 18. 18. 18.] 2\n",
            "[27.1 19.5 30.6 ... 62.6 14.  15.2]\n",
            "[ 0.  0.  0. ... 18. 18. 18.] 3\n",
            "[51.8 19.6 11.9 ... 10.4  0.   0. ]\n",
            "[ 0.  0.  0. ... 18. 18. 18.] 4\n",
            "[ 48.9 116.5  27.8 ...  17.7   0.6   1.5]\n",
            "[ 0.  0.  0. ... 18. 18. 18.] 5\n",
            "[18.8 80.9  7.2 ... 59.7 81.2  2. ]\n",
            "[ 0.  0.  0. ... 18. 18. 18.] 6\n",
            "[  1.8   0.6  10.7 ... 208.5 124.2  14.3]\n",
            "[ 0.  0.  0. ... 18. 18. 18.] 7\n",
            "[48.5 38.1 15.7 ... 38.2  1.2  0.9]\n",
            "[ 0.  0.  0. ... 18. 18. 18.] 8\n",
            "[21.6  8.9  2.9 ...  5.   0.5  0.8]\n",
            "[ 0.  0.  0. ... 18. 18. 18.] 9\n",
            "[62.6 31.3  8.2 ... 11.8  0.5  4.9]\n",
            "[ 0.  0.  0. ... 18. 18. 18.] 10\n",
            "[37.1 58.4  3.9 ... 32.7  2.3  6.3]\n",
            "[ 0.  0.  0. ... 18. 18. 18.] 11\n",
            "[4.2 0.  0.6 ... 2.2 0.3 0. ]\n",
            "[ 0.  0.  0. ... 18. 18. 18.] 12\n",
            "[35.4 28.9 11.1 ...  3.7  2.3  0.2]\n",
            "[ 0.  0.  0. ... 18. 18. 18.] 13\n",
            "[137.8 174.5  75.  ...  17.7  14.5  25. ]\n",
            "[ 0.  0.  0. ... 18. 18. 18.] 14\n",
            "[66.4 69.3 69.6 ... 87.1 38.1 39.3]\n",
            "[ 0.  0.  0. ... 18. 18. 18.] 15\n",
            "[92.7 66.6 11.1 ... 22.7  0.2  2.7]\n",
            "[ 0.  0.  0. ... 18. 18. 18.] 16\n",
            "[ 28.7  44.7  51.6 ... 308.1 223.6  79.4]\n",
            "[ 0.  0.  0. ... 18. 18. 18.] 17\n",
            "[ 5.6  0.1  0.4 ... 91.4 27.3  0. ]\n",
            "[ 0.  0.  0. ... 18. 18. 18.] 18\n",
            "[ 22.6  86.4 114.8 ... 165.4 231.  159. ]\n",
            "[ 0.  0.  0. ... 18. 18. 18.] 19\n",
            "[18.8  0.6  7.7 ... 48.3 16.2  0.1]\n",
            "[ 0.  0.  0. ... 18. 18. 18.] 20\n",
            "[15.8  3.3 32.1 ... 19.5  4.8  0. ]\n",
            "[ 0.  0.  0. ... 18. 18. 18.] 21\n",
            "[ 11.7  18.1  29.4 ... 118.7   3.9  10. ]\n",
            "[ 0.  0.  0. ... 18. 18. 18.] 22\n",
            "[ 3.5 18.8  7.1 ... 61.2  5.7  1.7]\n",
            "[ 0.  0.  0. ... 18. 18. 18.] 23\n",
            "[39.5 65.1 16.1 ... 24.7  6.2 15.6]\n",
            "[ 0.  0.  0. ... 18. 18. 18.] 24\n",
            "[55.7 50.1 25.2 ...  9.   0.8  0.7]\n",
            "[ 0.  0.  0. ... 18. 18. 18.] 25\n",
            "[  7.   50.2   0.  ... 106.7 383.8  52.2]\n",
            "[ 0.  0.  0. ... 18. 18. 18.] 26\n",
            "[1.9 0.  0.1 ... 3.3 0.3 0. ]\n",
            "[ 0.  0.  0. ... 18. 18. 18.] 27\n",
            "[  4.9  31.8   3.  ... 106.1 138.1   4.4]\n",
            "[ 0.  0.  0. ... 18. 18. 18.] 28\n",
            "[26.5 14.8 14.1 ... 53.6 23.8  9. ]\n",
            "[ 0.  0.  0. ... 18. 18. 18.] 29\n",
            "[ 24.5  39.1  21.7 ... 132.6 379.8 152.8]\n",
            "[ 0.  0.  0. ... 18. 18. 18.] 30\n",
            "[ 6.9 41.8  7.8 ... 15.6  0.3  1.7]\n",
            "[ 0.  0.  0. ... 18. 18. 18.] 31\n",
            "[134.5  81.4  44.5 ...  16.8   2.4   7.2]\n",
            "[ 0.  0.  0. ... 18. 18. 18.] 32\n",
            "[36.8 39.9 30.9 ...  7.   0.   0.2]\n",
            "[ 0.  0.  0. ... 18. 18. 18.] 33\n",
            "[25.8  5.8  5.8 ... 11.   0.3  1. ]\n",
            "[ 0.  0.  0. ... 18. 18. 18.] 34\n",
            "[6.7 0.  1.1 ... 1.1 0.1 0. ]\n",
            "[ 0.  0.  0. ... 18. 18. 18.] 35\n",
            "[51.4 25.6  9.5 ...  6.9  2.   3. ]\n"
          ]
        }
      ]
    },
    {
      "cell_type": "code",
      "source": [
        "# Converting 'x' and 'y' to NumPy arrays\n",
        "x=np.array(x)\n",
        "y=np.array(y)\n",
        "y=y.reshape((y.shape[0],1)) # Reshaping 'y' to have a shape of (number of samples, 1)\n",
        "data_final=np.concatenate((y,x),axis=1) # Concatenating 'y' and 'x' arrays along axis 1\n",
        "df2=pd.DataFrame(data_final) # Creating a DataFrame 'df2' from 'data_final'\n",
        "df2.to_csv(\"final_data.csv\") # Saving 'df2' as a CSV file named 'final_data.csv'"
      ],
      "metadata": {
        "id": "UTETbnyBu38x"
      },
      "execution_count": null,
      "outputs": []
    },
    {
      "cell_type": "code",
      "source": [
        "df2.head() #printing the first few rows of df2"
      ],
      "metadata": {
        "colab": {
          "base_uri": "https://localhost:8080/",
          "height": 204
        },
        "id": "sYCMQ1hGvvrc",
        "outputId": "a2affc9b-c8ae-432a-e83a-fdcb7cd49f3d"
      },
      "execution_count": null,
      "outputs": [
        {
          "output_type": "execute_result",
          "data": {
            "text/plain": [
              "     0    1      2\n",
              "0  0.0  0.0   49.2\n",
              "1  0.0  0.0   87.1\n",
              "2  0.0  0.0   29.2\n",
              "3  0.0  0.0    2.3\n",
              "4  3.0  0.0  528.8"
            ],
            "text/html": [
              "\n",
              "  <div id=\"df-73179583-2046-4469-bdc3-0281304bba38\">\n",
              "    <div class=\"colab-df-container\">\n",
              "      <div>\n",
              "<style scoped>\n",
              "    .dataframe tbody tr th:only-of-type {\n",
              "        vertical-align: middle;\n",
              "    }\n",
              "\n",
              "    .dataframe tbody tr th {\n",
              "        vertical-align: top;\n",
              "    }\n",
              "\n",
              "    .dataframe thead th {\n",
              "        text-align: right;\n",
              "    }\n",
              "</style>\n",
              "<table border=\"1\" class=\"dataframe\">\n",
              "  <thead>\n",
              "    <tr style=\"text-align: right;\">\n",
              "      <th></th>\n",
              "      <th>0</th>\n",
              "      <th>1</th>\n",
              "      <th>2</th>\n",
              "    </tr>\n",
              "  </thead>\n",
              "  <tbody>\n",
              "    <tr>\n",
              "      <th>0</th>\n",
              "      <td>0.0</td>\n",
              "      <td>0.0</td>\n",
              "      <td>49.2</td>\n",
              "    </tr>\n",
              "    <tr>\n",
              "      <th>1</th>\n",
              "      <td>0.0</td>\n",
              "      <td>0.0</td>\n",
              "      <td>87.1</td>\n",
              "    </tr>\n",
              "    <tr>\n",
              "      <th>2</th>\n",
              "      <td>0.0</td>\n",
              "      <td>0.0</td>\n",
              "      <td>29.2</td>\n",
              "    </tr>\n",
              "    <tr>\n",
              "      <th>3</th>\n",
              "      <td>0.0</td>\n",
              "      <td>0.0</td>\n",
              "      <td>2.3</td>\n",
              "    </tr>\n",
              "    <tr>\n",
              "      <th>4</th>\n",
              "      <td>3.0</td>\n",
              "      <td>0.0</td>\n",
              "      <td>528.8</td>\n",
              "    </tr>\n",
              "  </tbody>\n",
              "</table>\n",
              "</div>\n",
              "      <button class=\"colab-df-convert\" onclick=\"convertToInteractive('df-73179583-2046-4469-bdc3-0281304bba38')\"\n",
              "              title=\"Convert this dataframe to an interactive table.\"\n",
              "              style=\"display:none;\">\n",
              "        \n",
              "  <svg xmlns=\"http://www.w3.org/2000/svg\" height=\"24px\"viewBox=\"0 0 24 24\"\n",
              "       width=\"24px\">\n",
              "    <path d=\"M0 0h24v24H0V0z\" fill=\"none\"/>\n",
              "    <path d=\"M18.56 5.44l.94 2.06.94-2.06 2.06-.94-2.06-.94-.94-2.06-.94 2.06-2.06.94zm-11 1L8.5 8.5l.94-2.06 2.06-.94-2.06-.94L8.5 2.5l-.94 2.06-2.06.94zm10 10l.94 2.06.94-2.06 2.06-.94-2.06-.94-.94-2.06-.94 2.06-2.06.94z\"/><path d=\"M17.41 7.96l-1.37-1.37c-.4-.4-.92-.59-1.43-.59-.52 0-1.04.2-1.43.59L10.3 9.45l-7.72 7.72c-.78.78-.78 2.05 0 2.83L4 21.41c.39.39.9.59 1.41.59.51 0 1.02-.2 1.41-.59l7.78-7.78 2.81-2.81c.8-.78.8-2.07 0-2.86zM5.41 20L4 18.59l7.72-7.72 1.47 1.35L5.41 20z\"/>\n",
              "  </svg>\n",
              "      </button>\n",
              "      \n",
              "  <style>\n",
              "    .colab-df-container {\n",
              "      display:flex;\n",
              "      flex-wrap:wrap;\n",
              "      gap: 12px;\n",
              "    }\n",
              "\n",
              "    .colab-df-convert {\n",
              "      background-color: #E8F0FE;\n",
              "      border: none;\n",
              "      border-radius: 50%;\n",
              "      cursor: pointer;\n",
              "      display: none;\n",
              "      fill: #1967D2;\n",
              "      height: 32px;\n",
              "      padding: 0 0 0 0;\n",
              "      width: 32px;\n",
              "    }\n",
              "\n",
              "    .colab-df-convert:hover {\n",
              "      background-color: #E2EBFA;\n",
              "      box-shadow: 0px 1px 2px rgba(60, 64, 67, 0.3), 0px 1px 3px 1px rgba(60, 64, 67, 0.15);\n",
              "      fill: #174EA6;\n",
              "    }\n",
              "\n",
              "    [theme=dark] .colab-df-convert {\n",
              "      background-color: #3B4455;\n",
              "      fill: #D2E3FC;\n",
              "    }\n",
              "\n",
              "    [theme=dark] .colab-df-convert:hover {\n",
              "      background-color: #434B5C;\n",
              "      box-shadow: 0px 1px 3px 1px rgba(0, 0, 0, 0.15);\n",
              "      filter: drop-shadow(0px 1px 2px rgba(0, 0, 0, 0.3));\n",
              "      fill: #FFFFFF;\n",
              "    }\n",
              "  </style>\n",
              "\n",
              "      <script>\n",
              "        const buttonEl =\n",
              "          document.querySelector('#df-73179583-2046-4469-bdc3-0281304bba38 button.colab-df-convert');\n",
              "        buttonEl.style.display =\n",
              "          google.colab.kernel.accessAllowed ? 'block' : 'none';\n",
              "\n",
              "        async function convertToInteractive(key) {\n",
              "          const element = document.querySelector('#df-73179583-2046-4469-bdc3-0281304bba38');\n",
              "          const dataTable =\n",
              "            await google.colab.kernel.invokeFunction('convertToInteractive',\n",
              "                                                     [key], {});\n",
              "          if (!dataTable) return;\n",
              "\n",
              "          const docLinkHtml = 'Like what you see? Visit the ' +\n",
              "            '<a target=\"_blank\" href=https://colab.research.google.com/notebooks/data_table.ipynb>data table notebook</a>'\n",
              "            + ' to learn more about interactive tables.';\n",
              "          element.innerHTML = '';\n",
              "          dataTable['output_type'] = 'display_data';\n",
              "          await google.colab.output.renderOutput(dataTable, element);\n",
              "          const docLink = document.createElement('div');\n",
              "          docLink.innerHTML = docLinkHtml;\n",
              "          element.appendChild(docLink);\n",
              "        }\n",
              "      </script>\n",
              "    </div>\n",
              "  </div>\n",
              "  "
            ]
          },
          "metadata": {},
          "execution_count": 26
        }
      ]
    },
    {
      "cell_type": "code",
      "source": [
        "from google.colab import files # Importing the necessary library\n",
        "files.download('final_data.csv') # Using the files.download() function to initiate the download of \"final_data.csv\", we will use this in prediction.ipynb"
      ],
      "metadata": {
        "colab": {
          "base_uri": "https://localhost:8080/",
          "height": 17
        },
        "id": "IaI1UeObxgJf",
        "outputId": "a95618f2-cb7d-46d6-8424-1d2ba0e48787"
      },
      "execution_count": null,
      "outputs": [
        {
          "output_type": "display_data",
          "data": {
            "text/plain": [
              "<IPython.core.display.Javascript object>"
            ],
            "application/javascript": [
              "\n",
              "    async function download(id, filename, size) {\n",
              "      if (!google.colab.kernel.accessAllowed) {\n",
              "        return;\n",
              "      }\n",
              "      const div = document.createElement('div');\n",
              "      const label = document.createElement('label');\n",
              "      label.textContent = `Downloading \"${filename}\": `;\n",
              "      div.appendChild(label);\n",
              "      const progress = document.createElement('progress');\n",
              "      progress.max = size;\n",
              "      div.appendChild(progress);\n",
              "      document.body.appendChild(div);\n",
              "\n",
              "      const buffers = [];\n",
              "      let downloaded = 0;\n",
              "\n",
              "      const channel = await google.colab.kernel.comms.open(id);\n",
              "      // Send a message to notify the kernel that we're ready.\n",
              "      channel.send({})\n",
              "\n",
              "      for await (const message of channel.messages) {\n",
              "        // Send a message to notify the kernel that we're ready.\n",
              "        channel.send({})\n",
              "        if (message.buffers) {\n",
              "          for (const buffer of message.buffers) {\n",
              "            buffers.push(buffer);\n",
              "            downloaded += buffer.byteLength;\n",
              "            progress.value = downloaded;\n",
              "          }\n",
              "        }\n",
              "      }\n",
              "      const blob = new Blob(buffers, {type: 'application/binary'});\n",
              "      const a = document.createElement('a');\n",
              "      a.href = window.URL.createObjectURL(blob);\n",
              "      a.download = filename;\n",
              "      div.appendChild(a);\n",
              "      a.click();\n",
              "      div.remove();\n",
              "    }\n",
              "  "
            ]
          },
          "metadata": {}
        },
        {
          "output_type": "display_data",
          "data": {
            "text/plain": [
              "<IPython.core.display.Javascript object>"
            ],
            "application/javascript": [
              "download(\"download_0ebd6a15-61f6-4202-b19e-1b4751438e84\", \"final_data.csv\", 966321)"
            ]
          },
          "metadata": {}
        }
      ]
    }
  ]
}